{
 "cells": [
  {
   "cell_type": "code",
   "execution_count": 1,
   "metadata": {},
   "outputs": [],
   "source": [
    "import numpy as np"
   ]
  },
  {
   "cell_type": "code",
   "execution_count": 13,
   "metadata": {},
   "outputs": [
    {
     "name": "stdout",
     "output_type": "stream",
     "text": [
      "t10k-images-idx3-ubyte\ttrain-images-idx3-ubyte\n",
      "t10k-labels-idx1-ubyte\ttrain-labels-idx1-ubyte\n"
     ]
    }
   ],
   "source": [
    "!ls datasets"
   ]
  },
  {
   "cell_type": "code",
   "execution_count": 104,
   "metadata": {},
   "outputs": [],
   "source": [
    "def read_labels(path, filename):\n",
    "    \n",
    "    labeldata = None\n",
    "    hd_type = np.dtype('>u4') # unsigned int32 with big endien\n",
    "    dt_type = np.dtype('>u1') # unsigned int8 with big endient\n",
    "    \n",
    "    with open(path + filename) as f:\n",
    "        # Valid MNIST Label file checker\n",
    "        magic = np.fromfile(f, dtype=hd_type, count=1)\n",
    "        if 2049 != magic:\n",
    "            print('Magic number {} incorrect. Invalid MNIST label file'.format(magic))\n",
    "        else:\n",
    "            # Reshape data into 1D array (rows)\n",
    "            r = int(np.fromfile(f, dtype=hd_type, count=1))\n",
    "            print('Reading {} with shape: ({},)'.format(filename, r))\n",
    "            labeldata = np.fromfile(f, dtype=dt_type, count=r)\n",
    "\n",
    "    return labeldata "
   ]
  },
  {
   "cell_type": "code",
   "execution_count": 105,
   "metadata": {},
   "outputs": [
    {
     "name": "stdout",
     "output_type": "stream",
     "text": [
      "Reading train-labels-idx1-ubyte with shape: (60000,)\n"
     ]
    }
   ],
   "source": [
    "labels = read_labels('./datasets/', 'train-labels-idx1-ubyte')"
   ]
  }
 ],
 "metadata": {
  "kernelspec": {
   "display_name": "Python 3",
   "language": "python",
   "name": "python3"
  },
  "language_info": {
   "codemirror_mode": {
    "name": "ipython",
    "version": 3
   },
   "file_extension": ".py",
   "mimetype": "text/x-python",
   "name": "python",
   "nbconvert_exporter": "python",
   "pygments_lexer": "ipython3",
   "version": "3.5.3"
  }
 },
 "nbformat": 4,
 "nbformat_minor": 2
}
